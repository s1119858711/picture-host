{
 "cells": [
  {
   "cell_type": "code",
   "execution_count": null,
   "metadata": {},
   "outputs": [],
   "source": []
  },
  {
   "cell_type": "code",
   "execution_count": null,
   "metadata": {},
   "outputs": [],
   "source": []
  },
  {
   "cell_type": "code",
   "execution_count": 3,
   "metadata": {},
   "outputs": [
    {
     "name": "stdout",
     "output_type": "stream",
     "text": [
      "78\n",
      "87\n"
     ]
    }
   ],
   "source": [
    "##1.2\n",
    "a = int(input())\n",
    "print(a%10,end='')\n",
    "print(a//10)"
   ]
  },
  {
   "cell_type": "code",
   "execution_count": 6,
   "metadata": {},
   "outputs": [
    {
     "name": "stdout",
     "output_type": "stream",
     "text": [
      "78\n",
      "8**7\n"
     ]
    }
   ],
   "source": [
    "a = int(input())\n",
    "print(a%10,a//10,sep='**')"
   ]
  },
  {
   "cell_type": "code",
   "execution_count": 9,
   "metadata": {},
   "outputs": [
    {
     "data": {
      "text/plain": [
       "2"
      ]
     },
     "execution_count": 9,
     "metadata": {},
     "output_type": "execute_result"
    }
   ],
   "source": [
    "1234 // 100 % 10"
   ]
  },
  {
   "cell_type": "code",
   "execution_count": 4,
   "metadata": {},
   "outputs": [
    {
     "name": "stdout",
     "output_type": "stream",
     "text": [
      "1234\n",
      "3\n"
     ]
    }
   ],
   "source": [
    "##1.3\n",
    "a = int(input())\n",
    "print((a//10)%10)\n"
   ]
  },
  {
   "cell_type": "code",
   "execution_count": 17,
   "metadata": {},
   "outputs": [
    {
     "name": "stdout",
     "output_type": "stream",
     "text": [
      "Julie\n",
      "blue\n",
      "Hello,Julie.You have blue eyes\n",
      "Hello,Julie.You have blue eyes\n"
     ]
    }
   ],
   "source": [
    "##1.4\n",
    "name = input()\n",
    "color = input()\n",
    "print('Hello,{}.You have {} eyes'.format(name,color))\n",
    "print('Hello,',name,'.You have ',color ,' eyes',sep='')"
   ]
  },
  {
   "cell_type": "code",
   "execution_count": 11,
   "metadata": {},
   "outputs": [
    {
     "name": "stdout",
     "output_type": "stream",
     "text": [
      "fadfadaooo22\n"
     ]
    }
   ],
   "source": [
    "print('fadfada{}22'.format('ooo'))"
   ]
  },
  {
   "cell_type": "code",
   "execution_count": 18,
   "metadata": {},
   "outputs": [
    {
     "name": "stdout",
     "output_type": "stream",
     "text": [
      "87\n",
      "<class 'str'>\n",
      "<class 'int'>\n",
      "<class 'float'>\n"
     ]
    }
   ],
   "source": [
    "name = input()\n",
    "print(type(name))\n",
    "name1 = int(name)\n",
    "print(type(name1))\n",
    "name2 = float(name)\n",
    "print(type(name2))"
   ]
  },
  {
   "cell_type": "code",
   "execution_count": 21,
   "metadata": {},
   "outputs": [
    {
     "name": "stdout",
     "output_type": "stream",
     "text": [
      "Please enter celcius:36.7\n",
      "36.7C is 98.06F\n",
      "Please enter fahrenheit:98.06\n",
      "98.06F is 36.7C\n"
     ]
    }
   ],
   "source": [
    "##1.5\n",
    "c = input('Please enter celcius:')\n",
    "f = float(c)*(9/5) + 32\n",
    "print('{}C is {}F'.format(c,float(f)))  ##怎么舍入？？\n",
    "\n",
    "f = input('Please enter fahrenheit:')\n",
    "c = (float(f) - 32)  *  (5/9)\n",
    "print('{}F is {}C'.format(f,float(c)))  ##怎么舍入？？"
   ]
  },
  {
   "cell_type": "code",
   "execution_count": 45,
   "metadata": {
    "scrolled": true
   },
   "outputs": [
    {
     "name": "stdout",
     "output_type": "stream",
     "text": [
      "5\n",
      "5\n",
      "12.5\n"
     ]
    }
   ],
   "source": [
    "##1.6\n",
    "import turtle as tt\n",
    "length_base = float(input())\n",
    "height_ = float(input())\n",
    "print(length_base * height_ / 2)\n",
    "\n",
    "\n",
    "tt.speed(3)\n",
    "tt.pensize(10)\n",
    "\n",
    "tt.forward(50*length_base)\n",
    "tt.left(90)\n",
    "tt.forward(50*height_)\n",
    "#tt.left(135)\n",
    "#tt.forward()\n",
    "tt.goto(0,0)\n",
    "tt.hideturtle()\n",
    "tt.done()\n"
   ]
  },
  {
   "cell_type": "markdown",
   "metadata": {},
   "source": [
    "---"
   ]
  },
  {
   "cell_type": "code",
   "execution_count": 53,
   "metadata": {},
   "outputs": [
    {
     "name": "stdout",
     "output_type": "stream",
     "text": [
      "27\n",
      "----fa-da--\n"
     ]
    }
   ],
   "source": [
    "##2.1\n",
    "def cube(x):\n",
    "    print(x**3)\n",
    "    print('----fa-da--')\n",
    "    \n",
    "    return [22,22]\n",
    "\n",
    "a = cube(3)"
   ]
  },
  {
   "cell_type": "code",
   "execution_count": 52,
   "metadata": {},
   "outputs": [
    {
     "data": {
      "text/plain": [
       "(list, [22, 22])"
      ]
     },
     "execution_count": 52,
     "metadata": {},
     "output_type": "execute_result"
    }
   ],
   "source": [
    "type(a),a"
   ]
  },
  {
   "cell_type": "code",
   "execution_count": 47,
   "metadata": {},
   "outputs": [],
   "source": [
    "a"
   ]
  },
  {
   "cell_type": "code",
   "execution_count": 54,
   "metadata": {},
   "outputs": [
    {
     "name": "stdout",
     "output_type": "stream",
     "text": [
      "雷克雅未克在冰岛\n",
      "北京在中国\n",
      "广州在中国\n"
     ]
    }
   ],
   "source": [
    "##2.2\n",
    "def describe_city(city='上海',country='中国'):\n",
    "    print('{}在{}'.format(city,country))\n",
    "    return None\n",
    "\n",
    "describe_city('雷克雅未克','冰岛')\n",
    "describe_city(city='北京')\n",
    "describe_city(city='广州')"
   ]
  },
  {
   "cell_type": "code",
   "execution_count": 55,
   "metadata": {},
   "outputs": [
    {
     "name": "stdout",
     "output_type": "stream",
     "text": [
      "上海在中国\n"
     ]
    }
   ],
   "source": [
    "describe_city()"
   ]
  },
  {
   "cell_type": "code",
   "execution_count": 57,
   "metadata": {},
   "outputs": [
    {
     "name": "stdout",
     "output_type": "stream",
     "text": [
      "上海在a\n"
     ]
    }
   ],
   "source": [
    "describe_city(country='a')"
   ]
  },
  {
   "cell_type": "code",
   "execution_count": 58,
   "metadata": {},
   "outputs": [
    {
     "name": "stdout",
     "output_type": "stream",
     "text": [
      "Julie  Nisbet\n",
      "Julie Mary Nisbet\n"
     ]
    }
   ],
   "source": [
    "##2.3\n",
    "def get_formatted_name(first_name,last_name,middle_name=''):\n",
    "    print(first_name.title(),middle_name.title(),last_name.title())\n",
    "    \n",
    "get_formatted_name(\"julie\",\"nisbet\")\n",
    "get_formatted_name('julie', 'nisbet','mary')"
   ]
  },
  {
   "cell_type": "code",
   "execution_count": 61,
   "metadata": {},
   "outputs": [
    {
     "name": "stdout",
     "output_type": "stream",
     "text": [
      "A  B\n"
     ]
    }
   ],
   "source": [
    "get_formatted_name('a','b')"
   ]
  },
  {
   "cell_type": "markdown",
   "metadata": {},
   "source": [
    "---"
   ]
  },
  {
   "cell_type": "code",
   "execution_count": 62,
   "metadata": {},
   "outputs": [
    {
     "name": "stdout",
     "output_type": "stream",
     "text": [
      "4\n"
     ]
    }
   ],
   "source": [
    "##3.1\n",
    "def square(x):\n",
    "    return(x**2)\n",
    "two_squared = square(2)\n",
    "print(two_squared)"
   ]
  },
  {
   "cell_type": "code",
   "execution_count": 63,
   "metadata": {},
   "outputs": [
    {
     "name": "stdout",
     "output_type": "stream",
     "text": [
      "13\n"
     ]
    }
   ],
   "source": [
    "print(square(2)+square(3))"
   ]
  },
  {
   "cell_type": "code",
   "execution_count": null,
   "metadata": {},
   "outputs": [],
   "source": []
  },
  {
   "cell_type": "code",
   "execution_count": null,
   "metadata": {},
   "outputs": [],
   "source": []
  },
  {
   "cell_type": "code",
   "execution_count": null,
   "metadata": {},
   "outputs": [],
   "source": []
  },
  {
   "cell_type": "code",
   "execution_count": null,
   "metadata": {},
   "outputs": [],
   "source": []
  },
  {
   "cell_type": "code",
   "execution_count": 42,
   "metadata": {},
   "outputs": [
    {
     "name": "stdout",
     "output_type": "stream",
     "text": [
      "13\n"
     ]
    }
   ],
   "source": [
    "##3.2\n",
    "print(square(2)+square(3))"
   ]
  },
  {
   "cell_type": "code",
   "execution_count": 64,
   "metadata": {},
   "outputs": [],
   "source": [
    "##3.3\n",
    "##见1.5\n",
    "def get_c_temp(f):\n",
    "    return ((f-32)*(5/9))"
   ]
  },
  {
   "cell_type": "code",
   "execution_count": 65,
   "metadata": {},
   "outputs": [
    {
     "data": {
      "text/plain": [
       "283.15"
      ]
     },
     "execution_count": 65,
     "metadata": {},
     "output_type": "execute_result"
    }
   ],
   "source": [
    "##3.4\n",
    "def get_k_temp(c):\n",
    "    return (c+273.15)\n",
    "get_k_temp(10)"
   ]
  },
  {
   "cell_type": "code",
   "execution_count": 66,
   "metadata": {},
   "outputs": [
    {
     "data": {
      "text/plain": [
       "280.3722222222222"
      ]
     },
     "execution_count": 66,
     "metadata": {},
     "output_type": "execute_result"
    }
   ],
   "source": [
    "get_k_temp(get_c_temp(45))"
   ]
  },
  {
   "cell_type": "code",
   "execution_count": null,
   "metadata": {},
   "outputs": [],
   "source": []
  },
  {
   "cell_type": "code",
   "execution_count": null,
   "metadata": {},
   "outputs": [],
   "source": []
  },
  {
   "cell_type": "code",
   "execution_count": 46,
   "metadata": {},
   "outputs": [
    {
     "data": {
      "text/plain": [
       "280.3722222222222"
      ]
     },
     "execution_count": 46,
     "metadata": {},
     "output_type": "execute_result"
    }
   ],
   "source": [
    "##3.5\n",
    "get_k_temp(get_c_temp(45))"
   ]
  },
  {
   "cell_type": "markdown",
   "metadata": {},
   "source": [
    "---"
   ]
  },
  {
   "cell_type": "code",
   "execution_count": 64,
   "metadata": {},
   "outputs": [
    {
     "name": "stdout",
     "output_type": "stream",
     "text": [
      "['pig', 'cat', 'dog', 'turtle']\n",
      "['cat', 'dog', 'turtle']\n"
     ]
    }
   ],
   "source": [
    "##4.1\n",
    "name_list = ['cat','dog','turtle']\n",
    "name_list.insert(0,'pig')\n",
    "print(name_list)\n",
    "del name_list[0]\n",
    "print(name_list)"
   ]
  },
  {
   "cell_type": "markdown",
   "metadata": {},
   "source": [
    "---"
   ]
  },
  {
   "cell_type": "code",
   "execution_count": 67,
   "metadata": {},
   "outputs": [
    {
     "name": "stdout",
     "output_type": "stream",
     "text": [
      "1 2 3 4\n"
     ]
    }
   ],
   "source": [
    "l = [1,2,3,4]\n",
    "print(l[0],l[1],l[2],l[3])"
   ]
  },
  {
   "cell_type": "code",
   "execution_count": 73,
   "metadata": {},
   "outputs": [
    {
     "name": "stdout",
     "output_type": "stream",
     "text": [
      "0\n",
      "1\n",
      "2\n",
      "3\n",
      "4\n"
     ]
    }
   ],
   "source": [
    "for i in range(5):\n",
    "    print(i)"
   ]
  },
  {
   "cell_type": "code",
   "execution_count": 71,
   "metadata": {},
   "outputs": [
    {
     "name": "stdout",
     "output_type": "stream",
     "text": [
      "0 1\n",
      "1 2\n",
      "2 3\n",
      "3 4\n"
     ]
    }
   ],
   "source": [
    "for i in range(4):\n",
    "    print(i,l[i])"
   ]
  },
  {
   "cell_type": "code",
   "execution_count": 68,
   "metadata": {},
   "outputs": [
    {
     "name": "stdout",
     "output_type": "stream",
     "text": [
      "1\n",
      "2\n",
      "3\n",
      "4\n"
     ]
    }
   ],
   "source": [
    "for i in l:\n",
    "    print(i)"
   ]
  },
  {
   "cell_type": "code",
   "execution_count": 72,
   "metadata": {},
   "outputs": [],
   "source": [
    "##5.5 Loops\n",
    "#a = map(float,input().split(' '))\n",
    "def get_area(value):\n",
    "    a = map(int,value.split(' '))\n",
    "    a = list(a)\n",
    "    print(a[0]*a[1])"
   ]
  },
  {
   "cell_type": "code",
   "execution_count": 75,
   "metadata": {},
   "outputs": [
    {
     "name": "stdout",
     "output_type": "stream",
     "text": [
      "[1, 2]\n"
     ]
    }
   ],
   "source": [
    "l = [1,2]\n",
    "print(l)"
   ]
  },
  {
   "cell_type": "code",
   "execution_count": 76,
   "metadata": {},
   "outputs": [
    {
     "name": "stdout",
     "output_type": "stream",
     "text": [
      "[1, 2, 3]\n"
     ]
    }
   ],
   "source": [
    "l.append(3)\n",
    "print(l)"
   ]
  },
  {
   "cell_type": "code",
   "execution_count": 91,
   "metadata": {},
   "outputs": [],
   "source": [
    "l1 = [1,2,3,4]\n",
    "a = l1.pop()"
   ]
  },
  {
   "cell_type": "code",
   "execution_count": 92,
   "metadata": {},
   "outputs": [
    {
     "data": {
      "text/plain": [
       "4"
      ]
     },
     "execution_count": 92,
     "metadata": {},
     "output_type": "execute_result"
    }
   ],
   "source": [
    "a"
   ]
  },
  {
   "cell_type": "code",
   "execution_count": 94,
   "metadata": {},
   "outputs": [
    {
     "data": {
      "text/plain": [
       "[1, 2, 3]"
      ]
     },
     "execution_count": 94,
     "metadata": {},
     "output_type": "execute_result"
    }
   ],
   "source": [
    "l1"
   ]
  },
  {
   "cell_type": "code",
   "execution_count": 95,
   "metadata": {},
   "outputs": [
    {
     "data": {
      "text/plain": [
       "([1, 2], 3)"
      ]
     },
     "execution_count": 95,
     "metadata": {},
     "output_type": "execute_result"
    }
   ],
   "source": [
    "b = l1.pop()\n",
    "l1,b"
   ]
  },
  {
   "cell_type": "code",
   "execution_count": 96,
   "metadata": {},
   "outputs": [
    {
     "data": {
      "text/plain": [
       "[1, 2]"
      ]
     },
     "execution_count": 96,
     "metadata": {},
     "output_type": "execute_result"
    }
   ],
   "source": [
    "l1"
   ]
  },
  {
   "cell_type": "code",
   "execution_count": null,
   "metadata": {},
   "outputs": [],
   "source": [
    "l1 = [1,2,3,4]\n",
    "del l1"
   ]
  },
  {
   "cell_type": "code",
   "execution_count": 99,
   "metadata": {},
   "outputs": [
    {
     "data": {
      "text/plain": [
       "4"
      ]
     },
     "execution_count": 99,
     "metadata": {},
     "output_type": "execute_result"
    }
   ],
   "source": [
    "def return_last_element(l):\n",
    "    return(l[-1])\n",
    "    \n",
    "\n",
    "return_last_element([1,2,3,4])"
   ]
  },
  {
   "cell_type": "code",
   "execution_count": 97,
   "metadata": {},
   "outputs": [
    {
     "data": {
      "text/plain": [
       "[2]"
      ]
     },
     "execution_count": 97,
     "metadata": {},
     "output_type": "execute_result"
    }
   ],
   "source": [
    "del"
   ]
  },
  {
   "cell_type": "code",
   "execution_count": 82,
   "metadata": {},
   "outputs": [
    {
     "data": {
      "text/plain": [
       "['a', 'a', 1, 2, 'a', 3]"
      ]
     },
     "execution_count": 82,
     "metadata": {},
     "output_type": "execute_result"
    }
   ],
   "source": [
    "l.insert(-1,'a')\n",
    "l"
   ]
  },
  {
   "cell_type": "code",
   "execution_count": 83,
   "metadata": {},
   "outputs": [
    {
     "data": {
      "text/plain": [
       "['a', 'a', 1, 2, 'a', 3, 'a']"
      ]
     },
     "execution_count": 83,
     "metadata": {},
     "output_type": "execute_result"
    }
   ],
   "source": [
    "l.insert(6,'a')\n",
    "l"
   ]
  },
  {
   "cell_type": "code",
   "execution_count": 86,
   "metadata": {},
   "outputs": [
    {
     "data": {
      "text/plain": [
       "[1, 2, 3, 1]"
      ]
     },
     "execution_count": 86,
     "metadata": {},
     "output_type": "execute_result"
    }
   ],
   "source": [
    "l1 = [1,2,3]\n",
    "l1.append(1)\n",
    "l1"
   ]
  },
  {
   "cell_type": "code",
   "execution_count": 87,
   "metadata": {},
   "outputs": [
    {
     "data": {
      "text/plain": [
       "[1, 2, 3, 1, [1, 2, 3]]"
      ]
     },
     "execution_count": 87,
     "metadata": {},
     "output_type": "execute_result"
    }
   ],
   "source": [
    "l1.append([1,2,3])\n",
    "l1"
   ]
  },
  {
   "cell_type": "code",
   "execution_count": 89,
   "metadata": {},
   "outputs": [
    {
     "data": {
      "text/plain": [
       "[1, 2, 3]"
      ]
     },
     "execution_count": 89,
     "metadata": {},
     "output_type": "execute_result"
    }
   ],
   "source": [
    "l1[4]"
   ]
  },
  {
   "cell_type": "code",
   "execution_count": 90,
   "metadata": {},
   "outputs": [
    {
     "data": {
      "text/plain": [
       "[1, 2, 3, 1, [1, 2, 3], 1, 2, 3]"
      ]
     },
     "execution_count": 90,
     "metadata": {},
     "output_type": "execute_result"
    }
   ],
   "source": [
    "l1.extend([1,2,3])\n",
    "l1"
   ]
  },
  {
   "cell_type": "code",
   "execution_count": null,
   "metadata": {},
   "outputs": [],
   "source": []
  },
  {
   "cell_type": "code",
   "execution_count": 84,
   "metadata": {},
   "outputs": [],
   "source": [
    "l.insert(len(l)+1,'b')"
   ]
  },
  {
   "cell_type": "code",
   "execution_count": 85,
   "metadata": {},
   "outputs": [
    {
     "data": {
      "text/plain": [
       "['a', 'a', 1, 2, 'a', 3, 'a', 'b']"
      ]
     },
     "execution_count": 85,
     "metadata": {},
     "output_type": "execute_result"
    }
   ],
   "source": [
    "l"
   ]
  },
  {
   "cell_type": "code",
   "execution_count": 78,
   "metadata": {},
   "outputs": [],
   "source": [
    "l1 = [1,2,3,'a',4,5,'f']"
   ]
  },
  {
   "cell_type": "code",
   "execution_count": 79,
   "metadata": {},
   "outputs": [
    {
     "data": {
      "text/plain": [
       "[1, 2, 3, 'a', 4, 5, 'f']"
      ]
     },
     "execution_count": 79,
     "metadata": {},
     "output_type": "execute_result"
    }
   ],
   "source": [
    "l1"
   ]
  },
  {
   "cell_type": "markdown",
   "metadata": {},
   "source": [
    "# "
   ]
  },
  {
   "cell_type": "code",
   "execution_count": 74,
   "metadata": {},
   "outputs": [
    {
     "name": "stdout",
     "output_type": "stream",
     "text": [
      "4\n"
     ]
    }
   ],
   "source": [
    "print(len(l))"
   ]
  },
  {
   "cell_type": "markdown",
   "metadata": {},
   "source": [
    "---"
   ]
  },
  {
   "cell_type": "code",
   "execution_count": 100,
   "metadata": {},
   "outputs": [
    {
     "data": {
      "text/plain": [
       "['1', '2', '3', '4', 'a']"
      ]
     },
     "execution_count": 100,
     "metadata": {},
     "output_type": "execute_result"
    }
   ],
   "source": [
    "a = ['2','1','3','4','a']\n",
    "sorted(a)"
   ]
  },
  {
   "cell_type": "code",
   "execution_count": 104,
   "metadata": {},
   "outputs": [
    {
     "data": {
      "text/plain": [
       "['d', 'c', 'b', 'a']"
      ]
     },
     "execution_count": 104,
     "metadata": {},
     "output_type": "execute_result"
    }
   ],
   "source": [
    "a = ['c','b','d','a']\n",
    "sorted(a,reverse=True)"
   ]
  },
  {
   "cell_type": "code",
   "execution_count": 103,
   "metadata": {},
   "outputs": [
    {
     "name": "stdout",
     "output_type": "stream",
     "text": [
      "Help on built-in function sorted in module builtins:\n",
      "\n",
      "sorted(iterable, /, *, key=None, reverse=False)\n",
      "    Return a new list containing all items from the iterable in ascending order.\n",
      "    \n",
      "    A custom key function can be supplied to customize the sort order, and the\n",
      "    reverse flag can be set to request the result in descending order.\n",
      "\n"
     ]
    }
   ],
   "source": [
    "help(sorted)"
   ]
  },
  {
   "cell_type": "code",
   "execution_count": 158,
   "metadata": {},
   "outputs": [
    {
     "name": "stdout",
     "output_type": "stream",
     "text": [
      "我的鞋在哪\n"
     ]
    },
    {
     "data": {
      "text/plain": [
       "'It is decidedly so'"
      ]
     },
     "execution_count": 158,
     "metadata": {},
     "output_type": "execute_result"
    }
   ],
   "source": [
    "def aa():\n",
    "    question = input()\n",
    "    \n",
    "    l = [\n",
    "        'It is decidedly so',\n",
    "        'Yes, definitely',\n",
    "        'Reply hazy, try again',\n",
    "        'Ask again later',\n",
    "        'Concentrate and ask again',\n",
    "        'My reply is no',\n",
    "        'Outlook not so good',\n",
    "        'Very doubtful',\n",
    "        ]\n",
    "    while True:\n",
    "        xu = int(np.random.rand(1)[0]*10)\n",
    "        if xu>=0 and xu<=7:\n",
    "            break\n",
    "    return l[xu] \n",
    "\n",
    "aa()"
   ]
  },
  {
   "cell_type": "code",
   "execution_count": 156,
   "metadata": {},
   "outputs": [
    {
     "name": "stdout",
     "output_type": "stream",
     "text": [
      "where is my money\n"
     ]
    },
    {
     "data": {
      "text/plain": [
       "'Reply hazy, try again'"
      ]
     },
     "execution_count": 156,
     "metadata": {},
     "output_type": "execute_result"
    }
   ],
   "source": []
  },
  {
   "cell_type": "code",
   "execution_count": 144,
   "metadata": {},
   "outputs": [
    {
     "name": "stdout",
     "output_type": "stream",
     "text": [
      "1\n"
     ]
    }
   ],
   "source": [
    "while True:\n",
    "    xu = int(np.random.rand(1)[0]*10)\n",
    "    if xu>0 and xu<=7:\n",
    "        break\n",
    "        \n",
    "print(xu)"
   ]
  },
  {
   "cell_type": "code",
   "execution_count": 130,
   "metadata": {},
   "outputs": [
    {
     "data": {
      "text/plain": [
       "0"
      ]
     },
     "execution_count": 130,
     "metadata": {},
     "output_type": "execute_result"
    }
   ],
   "source": [
    "import numpy as np\n",
    "int(np.random.rand(1)[0]*10)"
   ]
  },
  {
   "cell_type": "code",
   "execution_count": 132,
   "metadata": {
    "collapsed": true
   },
   "outputs": [
    {
     "name": "stdout",
     "output_type": "stream",
     "text": [
      "Help on built-in function rand:\n",
      "\n",
      "rand(...) method of mtrand.RandomState instance\n",
      "    rand(d0, d1, ..., dn)\n",
      "    \n",
      "    Random values in a given shape.\n",
      "    \n",
      "    Create an array of the given shape and populate it with\n",
      "    random samples from a uniform distribution\n",
      "    over ``[0, 1)``.\n",
      "    \n",
      "    Parameters\n",
      "    ----------\n",
      "    d0, d1, ..., dn : int, optional\n",
      "        The dimensions of the returned array, should all be positive.\n",
      "        If no argument is given a single Python float is returned.\n",
      "    \n",
      "    Returns\n",
      "    -------\n",
      "    out : ndarray, shape ``(d0, d1, ..., dn)``\n",
      "        Random values.\n",
      "    \n",
      "    See Also\n",
      "    --------\n",
      "    random\n",
      "    \n",
      "    Notes\n",
      "    -----\n",
      "    This is a convenience function. If you want an interface that\n",
      "    takes a shape-tuple as the first argument, refer to\n",
      "    np.random.random_sample .\n",
      "    \n",
      "    Examples\n",
      "    --------\n",
      "    >>> np.random.rand(3,2)\n",
      "    array([[ 0.14022471,  0.96360618],  #random\n",
      "           [ 0.37601032,  0.25528411],  #random\n",
      "           [ 0.49313049,  0.94909878]]) #random\n",
      "\n"
     ]
    }
   ],
   "source": [
    "help(np.random.rand)"
   ]
  },
  {
   "cell_type": "code",
   "execution_count": null,
   "metadata": {},
   "outputs": [],
   "source": [
    "import numpy as np\n",
    "numpy.random.rand()\n",
    "np.random.rand()"
   ]
  },
  {
   "cell_type": "code",
   "execution_count": 162,
   "metadata": {},
   "outputs": [],
   "source": [
    "##6.1 TicTacToe\n",
    "import random\n",
    "import turtle\n",
    "board = [\"_\", \"_\", \"_\", \"_\", \"_\", \"_\", \"_\", \"_\", \"_\"]\n",
    "\n",
    "def drawgame(board):\n",
    "    # draw board\n",
    "    turtle.setup(600, 600)\n",
    "    turtle.bgcolor(\"silver\")\n",
    "    turtle.color(\"white\")\n",
    "    turtle.hideturtle()\n",
    "    turtle.speed('fastest')\n",
    "    turtle.width(10)\n",
    "    turtle.up()\n",
    "\n",
    "    # Horizontal bars\n",
    "    turtle.goto(-300, 100)\n",
    "    turtle.down()\n",
    "    turtle.forward(600)\n",
    "    turtle.up()\n",
    "    turtle.goto(-300, -100)\n",
    "    turtle.down()\n",
    "    turtle.forward(600)\n",
    "    turtle.up()\n",
    "\n",
    "    # Vertical bars\n",
    "    turtle.setheading(-90)\n",
    "    turtle.goto(-100, 300)\n",
    "    turtle.down()\n",
    "    turtle.forward(600)\n",
    "    turtle.up()\n",
    "    turtle.goto(100, 300)\n",
    "    turtle.down()\n",
    "    turtle.forward(600)\n",
    "    turtle.up()\n",
    "\n",
    "    turtle.color(\"blue\")\n",
    "    x, y = -300, 300\n",
    "\n",
    "    for pos in board:\n",
    "        if pos == \"X\":\n",
    "            # Draw X\n",
    "            turtle.up()\n",
    "            turtle.goto(x + 20, y - 20)\n",
    "            turtle.setheading(-45)\n",
    "            turtle.down()\n",
    "            turtle.forward(226)\n",
    "            turtle.up()\n",
    "            turtle.goto(x + 180, y - 20)\n",
    "            turtle.setheading(-135)\n",
    "            turtle.down()\n",
    "            turtle.forward(226)\n",
    "            turtle.up()\n",
    "        elif pos == \"O\":\n",
    "            # Draw O\n",
    "            turtle.up()\n",
    "            turtle.goto(x + 100, y - 180)\n",
    "            turtle.setheading(0)\n",
    "            turtle.down()\n",
    "            turtle.circle(80)\n",
    "            turtle.up()\n",
    "\n",
    "        x += 200\n",
    "        if x > 100:\n",
    "            x = -300\n",
    "            y -= 200\n",
    "\n",
    "def handler(x, y):\n",
    "    # sig: list(str), int, int -> NoneType\n",
    "\n",
    "    turtle.onscreenclick(None)  # disabling handler when inside handler\n",
    "\n",
    "    column = (x + 300) // 200\n",
    "    row = (y - 300) // -200\n",
    "    square = int(row * 3 + column)\n",
    "\n",
    "    if board[square] == \"_\":\n",
    "        board[square] = \"X\"\n",
    "        drawgame(board)\n",
    "        if not gameover(board):\n",
    "            computer_AI(board)\n",
    "            drawgame(board)\n",
    "\n",
    "            if not gameover(board):\n",
    "                turtle.onscreenclick(handler)  # allow player to take a turn\n",
    "    else:\n",
    "        print(\"That square is already taken!\")\n",
    "        turtle.onscreenclick(handler)  # allow player to retake turn\n",
    "\n",
    "def computer_AI(board): # sig: list(str) -> NoneType\n",
    "\n",
    "    \"\"\" stupid robot player, just picks randomly from what's available \"\"\"\n",
    "\n",
    "    available = [index for index, character in enumerate(board) if character == \"_\"]\n",
    "\n",
    "    if available:\n",
    "        index = random.choice(available)\n",
    "        board[index] = \"O\"\n",
    "\n",
    "def gameover(board):\n",
    "    # sig: list(str) -> bool\n",
    "    # checks game over on board if there is a three in a row pattern or not\n",
    "\n",
    "    pass  # to be implemented!\n",
    "\n",
    "    return False\n",
    "\n",
    "def main():\n",
    "    # Runs the game\n",
    "    turtle.hideturtle()\n",
    "    turtle.onscreenclick(handler)\n",
    "    drawgame(board)\n",
    "    turtle.mainloop()\n",
    "\n",
    "main()"
   ]
  },
  {
   "cell_type": "code",
   "execution_count": 164,
   "metadata": {},
   "outputs": [],
   "source": [
    "from turtle import Turtle, Screen\n",
    "\n",
    "CURSOR_SIZE = 20\n",
    "SQUARE_SIZE = 50\n",
    "FONT_SIZE = 40\n",
    "FONT = ('Arial', FONT_SIZE, 'bold')\n",
    "\n",
    "class TicTacToe:\n",
    "    def __init__(self):\n",
    "        self.board = [['?'] * 3 for i in range(3)] # so you can interrogate squares later\n",
    "        self.turn = 'X'\n",
    "\n",
    "    def drawBoard(self):\n",
    "        background = Turtle('square')\n",
    "        background.shapesize(SQUARE_SIZE * 3 / CURSOR_SIZE)\n",
    "        background.color('black')\n",
    "        background.stamp()\n",
    "        background.hideturtle()\n",
    "\n",
    "        for j in range(3):\n",
    "            for i in range(3):\n",
    "                box = Turtle('square', visible=False)\n",
    "                box.shapesize(SQUARE_SIZE / CURSOR_SIZE)\n",
    "                box.color('white')\n",
    "                box.penup()\n",
    "                box.goto(i * (SQUARE_SIZE + 2) - (SQUARE_SIZE + 2), j * (SQUARE_SIZE + 2) - (SQUARE_SIZE + 2))\n",
    "                box.showturtle()\n",
    "                box.stamp()  # blank out background behind turtle (for later)\n",
    "\n",
    "                self.board[j][i] = box\n",
    "                box.onclick(lambda x, y, box=box, i=i, j=j: self.mouse(box, i, j))\n",
    "\n",
    "    def mouse(self, box, i, j):\n",
    "        box.onclick(None)  # disable further moves on this square\n",
    "\n",
    "        # replace square/turtle with (written) X or O\n",
    "        box.hideturtle()\n",
    "        box.color('black')\n",
    "        box.sety(box.ycor() - FONT_SIZE / 2)\n",
    "        box.write(self.turn, align='center', font=FONT)\n",
    "\n",
    "        self.board[j][i] = self.turn  # record move\n",
    "\n",
    "        self.turn = ['X', 'O'][self.turn == 'X']  # switch turns\n",
    "\n",
    "screen = Screen()\n",
    "\n",
    "game = TicTacToe()\n",
    "\n",
    "game.drawBoard()\n",
    "\n",
    "screen.mainloop()"
   ]
  }
 ],
 "metadata": {
  "kernelspec": {
   "display_name": "Python 3",
   "language": "python",
   "name": "python3"
  },
  "language_info": {
   "codemirror_mode": {
    "name": "ipython",
    "version": 3
   },
   "file_extension": ".py",
   "mimetype": "text/x-python",
   "name": "python",
   "nbconvert_exporter": "python",
   "pygments_lexer": "ipython3",
   "version": "3.7.4"
  }
 },
 "nbformat": 4,
 "nbformat_minor": 2
}
